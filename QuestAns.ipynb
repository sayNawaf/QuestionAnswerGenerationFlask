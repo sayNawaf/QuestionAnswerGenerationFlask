{
  "nbformat": 4,
  "nbformat_minor": 0,
  "metadata": {
    "colab": {
      "provenance": [],
      "collapsed_sections": []
    },
    "kernelspec": {
      "name": "python3",
      "display_name": "Python 3"
    },
    "language_info": {
      "name": "python"
    },
    "gpuClass": "standard"
  },
  "cells": [
    {
      "cell_type": "code",
      "execution_count": null,
      "metadata": {
        "id": "ADSE_OqC13oD"
      },
      "outputs": [],
      "source": [
        "\"\"\"#!pip install git+https://github.com/ramsrigouthamg/Questgen.ai\n",
        "!pip install sense2vec\n",
        "!pip install git+https://github.com/boudinfl/pke.git\n",
        "\n",
        "!python -m nltk.downloader universal_tagset\n",
        "!python -m spacy download en\"\"\""
      ]
    },
    {
      "cell_type": "code",
      "source": [
        "\"\"\"!wget https://github.com/explosion/sense2vec/releases/download/v1.0.0/s2v_reddit_2015_md.tar.gz\n",
        "!tar -xvf  s2v_reddit_2015_md.tar.gz\n",
        "!ls s2v_old\"\"\""
      ],
      "metadata": {
        "id": "gBjIZMyt2McS"
      },
      "execution_count": null,
      "outputs": []
    },
    {
      "cell_type": "code",
      "source": [
        "!pip install -U transformers==3.0.0"
      ],
      "metadata": {
        "id": "BfBadO2TMqTo"
      },
      "execution_count": null,
      "outputs": []
    },
    {
      "cell_type": "code",
      "source": [
        "!python -m nltk.downloader punkt\n",
        "!git clone https://github.com/patil-suraj/question_generation.git"
      ],
      "metadata": {
        "colab": {
          "base_uri": "https://localhost:8080/"
        },
        "id": "9cnxrOOnM8od",
        "outputId": "3b57b7ec-2f0f-422d-81ad-55bc714c7f98"
      },
      "execution_count": null,
      "outputs": [
        {
          "output_type": "stream",
          "name": "stdout",
          "text": [
            "/usr/lib/python3.7/runpy.py:125: RuntimeWarning: 'nltk.downloader' found in sys.modules after import of package 'nltk', but prior to execution of 'nltk.downloader'; this may result in unpredictable behaviour\n",
            "  warn(RuntimeWarning(msg))\n",
            "[nltk_data] Downloading package punkt to /root/nltk_data...\n",
            "[nltk_data]   Unzipping tokenizers/punkt.zip.\n",
            "fatal: destination path 'question_generation' already exists and is not an empty directory.\n"
          ]
        }
      ]
    },
    {
      "cell_type": "code",
      "source": [
        "from google.colab import drive\n",
        "drive.mount('/content/drive')"
      ],
      "metadata": {
        "id": "NVNAdxQXJYCm",
        "colab": {
          "base_uri": "https://localhost:8080/"
        },
        "outputId": "e899fde4-bd95-4740-b89d-fff3b2cd6b71"
      },
      "execution_count": null,
      "outputs": [
        {
          "output_type": "stream",
          "name": "stdout",
          "text": [
            "Mounted at /content/drive\n"
          ]
        }
      ]
    },
    {
      "cell_type": "code",
      "source": [
        "data = \"\"\"Various authors have credited the invention of the thermometer to Hero of Alexandria The thermometer was \n",
        "not a single invention, however, but a development. Hero of Alexandria (10–70 AD) knew of the principle that certain \n",
        "substances, notably air, expand and contract and described a demonstration in which a closed tube partially filled with \n",
        "air had its end in a container of water.[2] The expansion and contraction of the air caused the position of the water/air \n",
        "interface to move along the tube.\n",
        "Gravity (from Latin gravitas, meaning 'weight'), or gravitation, is a natural phenomenon by which all \n",
        "things with mass or energy—including planets, stars, galaxies, and even light—are brought toward (or gravitate toward) \n",
        "one another. On Earth, gravity gives weight to physical objects, and the Moon's gravity causes the ocean tides. \n",
        "The gravitational attraction of the original gaseous matter present in the Universe caused it to begin coalescing \n",
        "and forming stars and caused the stars to group together into galaxies, so gravity is responsible for many of \n",
        "the large-scale structures in the Universe. Gravity has an infinite range, although its effects become increasingly \n",
        "weaker as objects get further away\n",
        "Forrest Gump is a 1994 American comedy-drama film directed by Robert Zemeckis and written by Eric Roth. \n",
        "It is based on the 1986 novel of the same name by Winston Groom and stars Tom Hanks, Robin Wright, Gary Sinise, \n",
        "Mykelti Williamson and Sally Field. The story depicts several decades in the life of Forrest Gump (Hanks), \n",
        "a slow-witted but kind-hearted man from Alabama who witnesses and unwittingly influences several defining \n",
        "historical events in the 20th century United States. The film differs substantially from the novel\n",
        "Python is an interpreted, high-level, general-purpose programming language. Created by Guido van Rossum \n",
        "and first released in 1991, Python's design philosophy emphasizes code \n",
        "readability with its notable use of significant whitespace.\n",
        "Thermometers may be described as empirical or absolute. Absolute thermometers are calibrated numerically by the thermodynamic absolute temperature scale. Empirical thermometers are not in general necessarily in exact agreement with absolute thermometers as to their numerical scale readings, but to qualify as thermometers at all they must agree with absolute thermometers and with each other in the following way: given any two bodies isolated in their separate respective thermodynamic equilibrium states, all thermometers agree as to which of the two has the higher temperature, or that the two have equal temperatures.[17] For any two empirical thermometers, this does not require that the relation between their numerical scale readings be linear, but it does require that relation to be strictly monotonic. This is a fundamental character of temperature and thermometers.\n",
        "As it is customarily stated in textbooks, taken alone, the so-called \"zeroth law of thermodynamics\" fails to deliver this information, but the statement of the zeroth law of thermodynamics by James Serrin in 1977, though rather mathematically abstract, is more informative for thermometry: \"Zeroth Law – There exists a topological line {\\displaystyle M}M which serves as a coordinate manifold of material behaviour. The points L of the manifold M are called 'hotness levels', and {\\displaystyle M}M is called the 'universal hotness manifold'.\"[22] To this information there needs to be added a sense of greater hotness; this sense can be had, independently of calorimetry, of thermodynamics, and of properties of particular materials, from Wien's displacement law of thermal radiation: the temperature of a bath of thermal radiation is proportional, by a universal constant, to the frequency of the maximum of its frequency spectrum; this frequency is always positive, but can have values that tend to zero. Another way of identifying hotter as opposed to colder conditions is supplied by Planck's principle, that when a process of isochoric adiabatic work is the sole means of change of internal energy of a closed system, the final state of the system is never colder than the initial state; except for phase changes with latent heat, it is hotter than the initial state.[23][24][25]\n",
        "There are several principles on which empirical thermometers are built, as listed in the section of this article entitled \"Primary and secondary thermometers\". Several such principles are essentially based on the constitutive relation between the state of a suitably selected particular material and its temperature. Only some materials are suitable for this purpose, and they may be considered as \"thermometric materials\". Radiometric thermometry, in contrast, can be only slightly dependent on the constitutive relations of materials. In a sense then, radiometric thermometry might be thought of as \"universal\". This is because it rests mainly on a universality character of thermodynamic equilibrium, that it has the universal property of producing blackbody radiation..\n",
        "A thermometer is called primary or secondary based on how the raw physical quantity it measures is mapped to a temperature. As summarized by Kauppinen et al., \"For primary thermometers the measured property of matter is known so well that temperature can be calculated without any unknown quantities. Examples of these are thermometers based on the equation of state of a gas, on the velocity of sound in a gas, on the thermal noise voltage or current of an electrical resistor, and on the angular anisotropy of gamma ray emission of certain radioactive nuclei in a magnetic field.\"[35]\n",
        "In contrast, \"Secondary thermometers are most widely used because of their convenience. Also, they are often much more sensitive than primary ones. For secondary thermometers knowledge of the measured property is not sufficient to allow direct calculation of temperature. They have to be calibrated against a primary thermometer at least at one temperature or at a number of fixed temperatures. Such fixed points, for example, triple points and superconducting transitions, occur reproducibly at the same temperature.\n",
        "The precision or resolution of a thermometer is simply to what fraction of a degree it is possible to make a reading. For high temperature work it may only be possible to measure to the nearest 10 °C or more. Clinical thermometers and many electronic thermometers are usually readable to 0.1 °C. Special instruments can give readings to one thousandth of a degree.[citation needed] However, this precision does not mean the reading is true or accurate, it only means that very small changes can be observed.\n",
        "\n",
        "A thermometer calibrated to a known fixed point is accurate (i.e. gives a true reading) at that point. Most thermometers are originally calibrated to a constant-volume gas thermometer.[citation needed] In between fixed calibration points, interpolation is used, usually linear.[38] This may give significant differences between different types of thermometer at points far away from the fixed points. For example, the expansion of mercury in a glass thermometer is slightly different from the change in resistance of a platinum resistance thermometer, so these two will disagree slightly at around 50 °C.[39] There may be other causes due to imperfections in the instrument, e.g. in a liquid-in-glass thermometer if the capillary tube varies in diameter.[39]\n",
        "\n",
        "For many purposes reproducibility is important. That is, does the same thermometer give the same reading for the same temperature (or do replacement or multiple thermometers give the same reading)? Reproducible temperature measurement means that comparisons are valid in scientific experiments and industrial processes are consistent. Thus if the same type of thermometer is calibrated in the same way its readings will be valid even if it is slightly inaccurate compared to the absolute scale.\n",
        "\n",
        "An example of a reference thermometer used to check others to industrial standards would be a platinum resistance thermometer with a digital display to 0.1 °C (its precision) which has been calibrated at 5 points against national standards (−18, 0, 40, 70, 100 °C) and which is certified to an accuracy of ±0.2 °C.[40]\n",
        "\n",
        "According to British Standards, correctly calibrated, used and maintained liquid-in-glass thermometers can achieve a measurement uncertainty of ±0.01 °C in the range 0 to 100 °C, and a larger uncertainty outside this range: ±0.05 °C up to 200 or down to −40 °C, ±0.2 °C up to 450 or down to −80 °C.[41]\n",
        "\n",
        "Indirect methods of temperature measurement\n",
        "Thermal expansion\n",
        "Utilizing the property of thermal expansion of various phases of matter.\n",
        "Pairs of solid metals with different expansion coefficients can be used for bi-metal mechanical thermometers. Another design using this principle is Breguet's thermometer.\n",
        "Some liquids possess relatively high expansion coefficients over a useful temperature ranges thus forming the basis for an alcohol or mercury thermometer. Alternative designs using this principle are the reversing thermometer and Beckmann differential thermometer.\n",
        "As with liquids, gases can also be used to form a gas thermometer.\n",
        "Pressure\n",
        "Vapour pressure thermometer\n",
        "Density\n",
        "Galileo thermometer[42]\n",
        "Thermochromism\n",
        "Some compounds exhibit thermochromism at distinct temperature changes. Thus by tuning the phase transition temperatures for a series of substances the temperature can be quantified in discrete increments, a form of digitization. This is the basis for a liquid crystal thermometer.\n",
        "Band edge thermometry (BET)\n",
        "Band edge thermometry (BET) takes advantage of the temperature-dependence of the band gap of semiconductor materials to provide very precise optical (i.e. non-contact) temperature measurements.[43] BET systems require a specialized optical system, as well as custom data analysis software.[44][45]\n",
        "Blackbody radiation\n",
        "All objects above absolute zero emit blackbody radiation for which the spectra is directly proportional to the temperature. This property is the basis for a pyrometer or infrared thermometer and thermography. It has the advantage of remote temperature sensing; it does not require contact or even close proximity unlike most thermometers. At higher temperatures, blackbody radiation becomes visible and is described by the colour temperature. For example a glowing heating element or an approximation of a star's surface temperature.\n",
        "Fluorescence\n",
        "Phosphor thermometry\n",
        "Optical absorbance spectra\n",
        "Fiber optical thermometer\n",
        "Electrical resistance\n",
        "Resistance thermometer which use materials such as Balco alloy\n",
        "Thermistor\n",
        "Coulomb blockade thermometer\n",
        "Electrical potential\n",
        "Thermocouples are useful over a wide temperature ranges from cryogenic temperatures to over 1000°C, but typically have an error of ±0.5-1.5°C.\n",
        "Silicon bandgap temperature sensors are commonly found packaged in integrated circuits with accompanying ADC and interface such as I2C. Typically they are specified to work within about —50 to 150°C with accuracies in the ±0.25 to 1°C range but can be improved by binning.[46][47]\n",
        "Electrical resonance\n",
        "Quartz thermometer\n",
        "Nuclear magnetic resonance\n",
        "Chemical shift is temperature dependent. This property is used to calibrate the thermostat of NMR probes, usually using methanol or ethylene glycol.[48][49] This can potentially be problematic for internal standards which are usually assumed to have a defined chemical shift (e.g 0 ppm for TMS) but in fact exhibit a temperature dependence.[50]\n",
        "Magnetic susceptibility\n",
        "See also: Paramagnetism § Curie's law\n",
        "Above the Curie temperature, the magnetic susceptibility of a paramagnetic material exhibits an inverse temperature dependence. This phenomenon is the basis of a magnetic cryometer.[51][52]\n",
        "Applications\n",
        "See also: List of temperature sensors\n",
        "Thermometers utilize a range of physical effects to measure temperature. Temperature sensors are used in a wide variety of scientific and engineering applications, especially measurement systems. Temperature systems are primarily either electrical or mechanical, occasionally inseparable from the system which they control (as in the case of a mercury-in-glass thermometer). Thermometers are used in roadways in cold weather climates to help determine if icing conditions exist. Indoors, thermistors are used in climate control systems such as air conditioners, freezers, heaters, refrigerators, and water heaters.[53] Galileo thermometers are used to measure indoor air temperature, due to their limited measurement range.\n",
        "\n",
        "Such liquid crystal thermometers (which use thermochromic liquid crystals) are also used in mood rings and used to measure the temperature of water in fish tanks.\n",
        "\n",
        "Fiber Bragg grating temperature sensors are used in nuclear power facilities to monitor reactor core temperatures and avoid the possibility of nuclear meltdowns.[54]\n",
        "\n",
        "Nanothermometry\n",
        "Nanothermometry is an emergent research field dealing with the knowledge of temperature in the sub-micrometric scale. Conventional thermometers cannot measure the temperature of an object which is smaller than a micrometre, and new methods and materials have to be used. Nanothermometry is used in such cases. Nanothermometers are classified as luminescent thermometers (if they use light to measure temperature) and non-luminescent thermometers (systems where thermometric properties are not directly related to luminescence).[55]\n",
        "\n",
        "Cryometer\n",
        "Main article: cryometer\n",
        "Thermometers used specifically for low temperatures.\n",
        "\n",
        "Medical\n",
        "Main article: Medical thermometer\n",
        "Ear thermometers tend to be an infrared thermometer.\n",
        "Forehead thermometer is an example of a liquid crystal thermometer.\n",
        "Rectal and oral thermometers have typically been mercury but have since largely been superseded by NTC thermistors with a digital readout.[56]\n",
        "Various thermometric techniques have been used throughout history such as the Galileo thermometer to thermal imaging.[42] Medical thermometers such as mercury-in-glass thermometers, infrared thermometers, pill thermometers, and liquid crystal thermometers are used in health care settings to determine if individuals have a fever or are hypothermic.\n",
        "\n",
        "Food and food safety\n",
        "Thermometers are important in food safety, where food at temperatures within 41 and 135 °F (5 and 57 °C) can be prone to potentially harmful levels of bacterial growth after several hours which could lead to foodborne illness. This includes monitoring refrigeration temperatures and maintaining temperatures in foods being served under heat lamps or hot water baths.[53] Cooking thermometers are important for determining if a food is properly cooked. In particular meat thermometers are used to aid in cooking meat to a safe internal temperature while preventing over cooking. They are commonly found using either a bimetallic coil, or a thermocouple or thermistor with a digital readout. Candy thermometers are used to aid in achieving a specific water content in a sugar solution based on its boiling temperature.\n",
        "\n",
        "Environmental\n",
        "Indoor-outdoor thermometer\n",
        "Heat meter uses a thermometer to measure rate of heat flow.\n",
        "Thermostats have used bimetallic strips but digital thermistors have since become popular.\n",
        "Alcohol thermometers, infrared thermometers, mercury-in-glass thermometers, recording thermometers, thermistors, and Six's thermometers are used in meteorology and climatology in various levels of the atmosphere and oceans. Aircraft use thermometers and hygrometers to determine if atmospheric icing conditions exist along their flight path. These measurements are used to initialize weather forecast models. Thermometers are used in roadways in cold weather climates to help determine if icing conditions exist and indoors in climate control systems.\n",
        "\n",
        "\"\"\"\n"
      ],
      "metadata": {
        "id": "w0e5VQUlxLts"
      },
      "execution_count": null,
      "outputs": []
    },
    {
      "cell_type": "code",
      "source": [
        "%cd question_generation\n",
        "from pipelines import pipeline\n",
        "\n"
      ],
      "metadata": {
        "id": "pM7qQXMxPhzL",
        "colab": {
          "base_uri": "https://localhost:8080/"
        },
        "outputId": "31e02407-c412-4c59-ef28-269d2e7350ed"
      },
      "execution_count": null,
      "outputs": [
        {
          "output_type": "stream",
          "name": "stdout",
          "text": [
            "/content/drive/MyDrive/question_generation\n"
          ]
        }
      ]
    },
    {
      "cell_type": "code",
      "source": [
        "!pip install sentencepiece"
      ],
      "metadata": {
        "colab": {
          "base_uri": "https://localhost:8080/"
        },
        "id": "PDQBpLcnJriV",
        "outputId": "374964ab-76e8-4817-eeb1-6f66c1caa616"
      },
      "execution_count": null,
      "outputs": [
        {
          "output_type": "stream",
          "name": "stdout",
          "text": [
            "Looking in indexes: https://pypi.org/simple, https://us-python.pkg.dev/colab-wheels/public/simple/\n",
            "Collecting sentencepiece\n",
            "  Downloading sentencepiece-0.1.97-cp37-cp37m-manylinux_2_17_x86_64.manylinux2014_x86_64.whl (1.3 MB)\n",
            "\u001b[K     |████████████████████████████████| 1.3 MB 8.7 MB/s \n",
            "\u001b[?25hInstalling collected packages: sentencepiece\n",
            "Successfully installed sentencepiece-0.1.97\n"
          ]
        }
      ]
    },
    {
      "cell_type": "code",
      "source": [
        "#answer = main.AnswerPredictor()\n",
        "#nlp = pipeline(\"question-generation\")"
      ],
      "metadata": {
        "id": "LwgavOAjIC3Z"
      },
      "execution_count": null,
      "outputs": []
    },
    {
      "cell_type": "code",
      "source": [
        "nlp = pipeline(\"question-generation\", model=\"valhalla/t5-base-qg-hl\")"
      ],
      "metadata": {
        "id": "IT2nr8_Qcmn9"
      },
      "execution_count": null,
      "outputs": []
    },
    {
      "cell_type": "markdown",
      "source": [],
      "metadata": {
        "id": "0E4IITjFbyIG"
      }
    },
    {
      "cell_type": "code",
      "source": [
        "import re\n",
        "\n",
        "QuestionAnswer = []\n",
        "\n",
        "TotalQuestion = 50\n",
        "\n",
        "total = 0\n",
        "cleandata = re.sub('[^A-Za-z0-9.]+', ' ', data)\n",
        "\n",
        "sentances = cleandata.split(\".\")\n",
        "sentances = [sent.strip().lower() for sent in sentances if len(sent.strip().split(' ')) > 3]\n",
        "omega = len(sentances)//TotalQuestion\n",
        "\n",
        "for i in range(0,len(sentances),omega):\n",
        "  chunk = sentances[i:i+omega]\n",
        "  chunk = \" \".join(chunk)\n",
        "  chunk = chunk.strip()\n",
        "\n",
        "\n",
        "  output = nlp(chunk)\n",
        "  QuestionAnswer.append(output)\n",
        "  \n",
        "\n",
        "  \n",
        "\n",
        "\n",
        "  "
      ],
      "metadata": {
        "id": "hRk9Jbd8XtZE",
        "colab": {
          "base_uri": "https://localhost:8080/",
          "height": 522
        },
        "outputId": "948fe3f7-a6b3-46e5-984d-f65ff8b46144"
      },
      "execution_count": null,
      "outputs": [
        {
          "output_type": "stream",
          "name": "stdout",
          "text": [
            "Various authors have credited the invention of the thermometer to Hero of Alexandria The thermometer was not a single invention however but a development  Hero of Alexandria 10 70 AD knew of the principle that certain substances notably air expand and contract and described a demonstration in which a closed tube partially filled with air had its end in a container of water\n",
            "++++++++++\n"
          ]
        },
        {
          "output_type": "stream",
          "name": "stderr",
          "text": [
            "/usr/local/lib/python3.7/dist-packages/transformers/modeling_utils.py:1500: UserWarning: __floordiv__ is deprecated, and its behavior will change in a future version of pytorch. It currently rounds toward 0 (like the 'trunc' function NOT 'floor'). This results in incorrect rounding for negative values. To keep the current behavior, use torch.div(a, b, rounding_mode='trunc'), or for actual floor division, use torch.div(a, b, rounding_mode='floor').\n",
            "  beam_id = beam_token_id // vocab_size\n"
          ]
        },
        {
          "output_type": "stream",
          "name": "stdout",
          "text": [
            "[{'answer': 'a demonstration in which a closed tube partially filled with air had its end in a container of water', 'question': 'What did Hero of Alexandria describe?'}]\n",
            "2 The expansion and contraction of the air caused the position of the water air interface to move along the tube  Gravity from Latin gravitas meaning weight or gravitation is a natural phenomenon by which all things with mass or energy including planets stars galaxies and even light are brought toward or gravitate toward one another\n",
            "++++++++++\n"
          ]
        },
        {
          "output_type": "error",
          "ename": "ValueError",
          "evalue": "ignored",
          "traceback": [
            "\u001b[0;31m---------------------------------------------------------------------------\u001b[0m",
            "\u001b[0;31mValueError\u001b[0m                                Traceback (most recent call last)",
            "\u001b[0;32m<ipython-input-99-bae9e6a086cf>\u001b[0m in \u001b[0;36m<module>\u001b[0;34m\u001b[0m\n\u001b[1;32m     18\u001b[0m   \u001b[0mprint\u001b[0m\u001b[0;34m(\u001b[0m\u001b[0mchunk\u001b[0m\u001b[0;34m)\u001b[0m\u001b[0;34m\u001b[0m\u001b[0;34m\u001b[0m\u001b[0m\n\u001b[1;32m     19\u001b[0m   \u001b[0mprint\u001b[0m\u001b[0;34m(\u001b[0m\u001b[0;34m'++++++++++'\u001b[0m\u001b[0;34m)\u001b[0m\u001b[0;34m\u001b[0m\u001b[0;34m\u001b[0m\u001b[0m\n\u001b[0;32m---> 20\u001b[0;31m   \u001b[0moutput\u001b[0m \u001b[0;34m=\u001b[0m \u001b[0mnlp\u001b[0m\u001b[0;34m(\u001b[0m\u001b[0mchunk\u001b[0m\u001b[0;34m)\u001b[0m\u001b[0;34m\u001b[0m\u001b[0;34m\u001b[0m\u001b[0m\n\u001b[0m\u001b[1;32m     21\u001b[0m   \u001b[0mprint\u001b[0m\u001b[0;34m(\u001b[0m\u001b[0moutput\u001b[0m\u001b[0;34m)\u001b[0m\u001b[0;34m\u001b[0m\u001b[0;34m\u001b[0m\u001b[0m\n\u001b[1;32m     22\u001b[0m   \u001b[0mQuestionAnswer\u001b[0m\u001b[0;34m.\u001b[0m\u001b[0mappend\u001b[0m\u001b[0;34m(\u001b[0m\u001b[0moutput\u001b[0m\u001b[0;34m)\u001b[0m\u001b[0;34m\u001b[0m\u001b[0;34m\u001b[0m\u001b[0m\n",
            "\u001b[0;32m/content/drive/MyDrive/question_generation/pipelines.py\u001b[0m in \u001b[0;36m__call__\u001b[0;34m(self, inputs)\u001b[0m\n\u001b[1;32m     58\u001b[0m             \u001b[0mqg_examples\u001b[0m \u001b[0;34m=\u001b[0m \u001b[0mself\u001b[0m\u001b[0;34m.\u001b[0m\u001b[0m_prepare_inputs_for_qg_from_answers_prepend\u001b[0m\u001b[0;34m(\u001b[0m\u001b[0minputs\u001b[0m\u001b[0;34m,\u001b[0m \u001b[0manswers\u001b[0m\u001b[0;34m)\u001b[0m\u001b[0;34m\u001b[0m\u001b[0;34m\u001b[0m\u001b[0m\n\u001b[1;32m     59\u001b[0m         \u001b[0;32melse\u001b[0m\u001b[0;34m:\u001b[0m\u001b[0;34m\u001b[0m\u001b[0;34m\u001b[0m\u001b[0m\n\u001b[0;32m---> 60\u001b[0;31m             \u001b[0mqg_examples\u001b[0m \u001b[0;34m=\u001b[0m \u001b[0mself\u001b[0m\u001b[0;34m.\u001b[0m\u001b[0m_prepare_inputs_for_qg_from_answers_hl\u001b[0m\u001b[0;34m(\u001b[0m\u001b[0msents\u001b[0m\u001b[0;34m,\u001b[0m \u001b[0manswers\u001b[0m\u001b[0;34m)\u001b[0m\u001b[0;34m\u001b[0m\u001b[0;34m\u001b[0m\u001b[0m\n\u001b[0m\u001b[1;32m     61\u001b[0m \u001b[0;34m\u001b[0m\u001b[0m\n\u001b[1;32m     62\u001b[0m         \u001b[0mqg_inputs\u001b[0m \u001b[0;34m=\u001b[0m \u001b[0;34m[\u001b[0m\u001b[0mexample\u001b[0m\u001b[0;34m[\u001b[0m\u001b[0;34m'source_text'\u001b[0m\u001b[0;34m]\u001b[0m \u001b[0;32mfor\u001b[0m \u001b[0mexample\u001b[0m \u001b[0;32min\u001b[0m \u001b[0mqg_examples\u001b[0m\u001b[0;34m]\u001b[0m\u001b[0;34m\u001b[0m\u001b[0;34m\u001b[0m\u001b[0m\n",
            "\u001b[0;32m/content/drive/MyDrive/question_generation/pipelines.py\u001b[0m in \u001b[0;36m_prepare_inputs_for_qg_from_answers_hl\u001b[0;34m(self, sents, answers)\u001b[0m\n\u001b[1;32m    140\u001b[0m                 \u001b[0manswer_text\u001b[0m \u001b[0;34m=\u001b[0m \u001b[0manswer_text\u001b[0m\u001b[0;34m.\u001b[0m\u001b[0mstrip\u001b[0m\u001b[0;34m(\u001b[0m\u001b[0;34m)\u001b[0m\u001b[0;34m\u001b[0m\u001b[0;34m\u001b[0m\u001b[0m\n\u001b[1;32m    141\u001b[0m \u001b[0;34m\u001b[0m\u001b[0m\n\u001b[0;32m--> 142\u001b[0;31m                 \u001b[0mans_start_idx\u001b[0m \u001b[0;34m=\u001b[0m \u001b[0msent\u001b[0m\u001b[0;34m.\u001b[0m\u001b[0mindex\u001b[0m\u001b[0;34m(\u001b[0m\u001b[0manswer_text\u001b[0m\u001b[0;34m)\u001b[0m\u001b[0;34m\u001b[0m\u001b[0;34m\u001b[0m\u001b[0m\n\u001b[0m\u001b[1;32m    143\u001b[0m \u001b[0;34m\u001b[0m\u001b[0m\n\u001b[1;32m    144\u001b[0m                 \u001b[0msent\u001b[0m \u001b[0;34m=\u001b[0m \u001b[0;34mf\"{sent[:ans_start_idx]} <hl> {answer_text} <hl> {sent[ans_start_idx + len(answer_text): ]}\"\u001b[0m\u001b[0;34m\u001b[0m\u001b[0;34m\u001b[0m\u001b[0m\n",
            "\u001b[0;31mValueError\u001b[0m: substring not found"
          ]
        }
      ]
    },
    {
      "cell_type": "code",
      "source": [
        "QuestionAnswer"
      ],
      "metadata": {
        "colab": {
          "base_uri": "https://localhost:8080/"
        },
        "id": "JrFn0RJrf4K5",
        "outputId": "391dc8d5-bf98-4dc4-c961-11e6d08ad6d2"
      },
      "execution_count": null,
      "outputs": [
        {
          "output_type": "execute_result",
          "data": {
            "text/plain": [
              "[[{'answer': 'Hero of Alexandria',\n",
              "   'question': 'Who is credited with the invention of the thermometer?'}]]"
            ]
          },
          "metadata": {},
          "execution_count": 81
        }
      ]
    },
    {
      "cell_type": "code",
      "source": [
        "'''nlp = pipeline(\"question-generation\")\n",
        "if len(data) <= 256:\n",
        "  print(nlp(data))\n",
        "\n",
        "else:\n",
        "  for i in range(0,len(data),255):\n",
        "    if i+255>len(data):\n",
        "      start = i\n",
        "      end = i+255 -len(data)\n",
        "    else:\n",
        "      start = i\n",
        "      end = i + 255\n",
        "    print(\"start:\"+str(start)+\" end:\"+str(end))\n",
        "    text = data[start:end]\n",
        "    print(len(text))\n",
        "    print(nlp(text))'''\n",
        "\n"
      ],
      "metadata": {
        "colab": {
          "base_uri": "https://localhost:8080/",
          "height": 973
        },
        "id": "VpqmAiuwNo94",
        "outputId": "73e03b8f-0504-4cfa-fe61-a5d0a629cac6"
      },
      "execution_count": null,
      "outputs": [
        {
          "output_type": "stream",
          "name": "stdout",
          "text": [
            "start:0 end:255\n",
            "255\n"
          ]
        },
        {
          "output_type": "stream",
          "name": "stderr",
          "text": [
            "/usr/local/lib/python3.7/dist-packages/transformers/modeling_utils.py:1500: UserWarning: __floordiv__ is deprecated, and its behavior will change in a future version of pytorch. It currently rounds toward 0 (like the 'trunc' function NOT 'floor'). This results in incorrect rounding for negative values. To keep the current behavior, use torch.div(a, b, rounding_mode='trunc'), or for actual floor division, use torch.div(a, b, rounding_mode='floor').\n",
            "  beam_id = beam_token_id // vocab_size\n"
          ]
        },
        {
          "output_type": "stream",
          "name": "stdout",
          "text": [
            "[{'answer': 'temperature or a temperature gradient', 'question': 'What is the degree of hotness or coldness of an object?'}, {'answer': 'a temperature sensor', 'question': 'What is the bulb of a mercury-in-glass thermometer?'}, {'answer': 'pyro', 'question': 'What is a temperature sensor called?'}]\n",
            "start:255 end:510\n",
            "255\n",
            "[{'answer': 'metric sensor', 'question': 'What is an infrared thermometer called?'}, {'answer': 'visible scale', 'question': 'What is marked on a mercury-in-glass thermometer?'}]\n",
            "start:510 end:765\n",
            "255\n",
            "[{'answer': 'infrared', 'question': 'What type of model is readout on?'}, {'answer': 'Thermometers', 'question': 'What is widely used in technology and industry to monitor processes, meteorology, medicine, and scientific research?'}, {'answer': 'Hero of Alexandria', 'question': 'Who has credited the invention of the thermometer to?'}, {'answer': 'T', 'question': 'Who invented the thermometer?'}]\n",
            "start:765 end:1020\n",
            "255\n",
            "[{'answer': 'a development', 'question': 'What was he thermometer not a single invention?'}, {'answer': 'a closed tube partially filled with', 'question': 'What did Hero of Alexandria describe a demonstration in which certain substances expand and contract?'}]\n",
            "start:1020 end:1275\n",
            "255\n",
            "[{'answer': 'container of water', 'question': 'What container of water did air end in?'}, {'answer': 'the position of the water/air interface', 'question': 'What caused the expansion and contraction of air to move along the tube?'}, {'answer': 'a tube', 'question': 'What was used to show the hotness and coldness of the air?'}]\n",
            "start:1275 end:1530\n",
            "255\n",
            "[{'answer': 'expansion and contraction of the gas', 'question': 'What control is the water level controlled by?'}, {'answer': '16th and 17th centuries', 'question': 'In what centuries were Galileo Galilei and Santorio Santorio devices developed?'}, {'answer': 'devices', 'question': 'What devices were shown to be able to be controlled by the expansion and contraction of the gas?'}]\n",
            "start:1530 end:1785\n",
            "255\n",
            "[{'answer': 'thermoscope', 'question': 'What term was adopted because it reflected the changes in sensible heat?'}, {'answer': 'thermometer', 'question': 'What is the difference between a thermoscope and a thermometer?'}]\n",
            "start:1785 end:2040\n",
            "255\n",
            "[{'answer': 'cale', 'question': \"What is the name of Galileo's thermometer?\"}, {'answer': 'Galileo', 'question': 'Who is often said to be the inventor of the thermometer?'}, {'answer': '1617', 'question': 'When was the first clear diagram of a thermoscope published?'}, {'answer': 'Giuseppe Biancani', 'question': 'Who published the first clear diagram of a thermoscope?'}]\n",
            "start:2040 end:2295\n",
            "255\n",
            "[{'answer': '1625', 'question': 'When was Santorio Santorio Santorio first showing a scale?'}, {'answer': 'a bulb of air', 'question': 'What closed the vertical tube at the top of the tube?'}, {'answer': 'b', 'question': 'What is the water level in the tu?'}]\n",
            "start:2295 end:2550\n",
            "255\n",
            "[{'answer': 'air thermometer', 'question': 'What is the term for thermometer?'}, {'answer': 'Jean Leurechon', 'question': 'Who first appeared in La Récréation Mathématique?'}, {'answer': '1624', 'question': 'When did the word thermometer first appear in La Récréation Mathématique?'}]\n",
            "start:2550 end:2805\n",
            "255\n"
          ]
        },
        {
          "output_type": "error",
          "ename": "ValueError",
          "evalue": "ignored",
          "traceback": [
            "\u001b[0;31m---------------------------------------------------------------------------\u001b[0m",
            "\u001b[0;31mValueError\u001b[0m                                Traceback (most recent call last)",
            "\u001b[0;32m<ipython-input-30-d71ef8b6c49b>\u001b[0m in \u001b[0;36m<module>\u001b[0;34m\u001b[0m\n\u001b[1;32m     14\u001b[0m     \u001b[0mtext\u001b[0m \u001b[0;34m=\u001b[0m \u001b[0mdata\u001b[0m\u001b[0;34m[\u001b[0m\u001b[0mstart\u001b[0m\u001b[0;34m:\u001b[0m\u001b[0mend\u001b[0m\u001b[0;34m]\u001b[0m\u001b[0;34m\u001b[0m\u001b[0;34m\u001b[0m\u001b[0m\n\u001b[1;32m     15\u001b[0m     \u001b[0mprint\u001b[0m\u001b[0;34m(\u001b[0m\u001b[0mlen\u001b[0m\u001b[0;34m(\u001b[0m\u001b[0mtext\u001b[0m\u001b[0;34m)\u001b[0m\u001b[0;34m)\u001b[0m\u001b[0;34m\u001b[0m\u001b[0;34m\u001b[0m\u001b[0m\n\u001b[0;32m---> 16\u001b[0;31m     \u001b[0mprint\u001b[0m\u001b[0;34m(\u001b[0m\u001b[0mnlp\u001b[0m\u001b[0;34m(\u001b[0m\u001b[0mtext\u001b[0m\u001b[0;34m)\u001b[0m\u001b[0;34m)\u001b[0m\u001b[0;34m\u001b[0m\u001b[0;34m\u001b[0m\u001b[0m\n\u001b[0m\u001b[1;32m     17\u001b[0m \u001b[0;34m\u001b[0m\u001b[0m\n",
            "\u001b[0;32m/content/question_generation/pipelines.py\u001b[0m in \u001b[0;36m__call__\u001b[0;34m(self, inputs)\u001b[0m\n\u001b[1;32m     58\u001b[0m             \u001b[0mqg_examples\u001b[0m \u001b[0;34m=\u001b[0m \u001b[0mself\u001b[0m\u001b[0;34m.\u001b[0m\u001b[0m_prepare_inputs_for_qg_from_answers_prepend\u001b[0m\u001b[0;34m(\u001b[0m\u001b[0minputs\u001b[0m\u001b[0;34m,\u001b[0m \u001b[0manswers\u001b[0m\u001b[0;34m)\u001b[0m\u001b[0;34m\u001b[0m\u001b[0;34m\u001b[0m\u001b[0m\n\u001b[1;32m     59\u001b[0m         \u001b[0;32melse\u001b[0m\u001b[0;34m:\u001b[0m\u001b[0;34m\u001b[0m\u001b[0;34m\u001b[0m\u001b[0m\n\u001b[0;32m---> 60\u001b[0;31m             \u001b[0mqg_examples\u001b[0m \u001b[0;34m=\u001b[0m \u001b[0mself\u001b[0m\u001b[0;34m.\u001b[0m\u001b[0m_prepare_inputs_for_qg_from_answers_hl\u001b[0m\u001b[0;34m(\u001b[0m\u001b[0msents\u001b[0m\u001b[0;34m,\u001b[0m \u001b[0manswers\u001b[0m\u001b[0;34m)\u001b[0m\u001b[0;34m\u001b[0m\u001b[0;34m\u001b[0m\u001b[0m\n\u001b[0m\u001b[1;32m     61\u001b[0m \u001b[0;34m\u001b[0m\u001b[0m\n\u001b[1;32m     62\u001b[0m         \u001b[0mqg_inputs\u001b[0m \u001b[0;34m=\u001b[0m \u001b[0;34m[\u001b[0m\u001b[0mexample\u001b[0m\u001b[0;34m[\u001b[0m\u001b[0;34m'source_text'\u001b[0m\u001b[0;34m]\u001b[0m \u001b[0;32mfor\u001b[0m \u001b[0mexample\u001b[0m \u001b[0;32min\u001b[0m \u001b[0mqg_examples\u001b[0m\u001b[0;34m]\u001b[0m\u001b[0;34m\u001b[0m\u001b[0;34m\u001b[0m\u001b[0m\n",
            "\u001b[0;32m/content/question_generation/pipelines.py\u001b[0m in \u001b[0;36m_prepare_inputs_for_qg_from_answers_hl\u001b[0;34m(self, sents, answers)\u001b[0m\n\u001b[1;32m    140\u001b[0m                 \u001b[0manswer_text\u001b[0m \u001b[0;34m=\u001b[0m \u001b[0manswer_text\u001b[0m\u001b[0;34m.\u001b[0m\u001b[0mstrip\u001b[0m\u001b[0;34m(\u001b[0m\u001b[0;34m)\u001b[0m\u001b[0;34m\u001b[0m\u001b[0;34m\u001b[0m\u001b[0m\n\u001b[1;32m    141\u001b[0m \u001b[0;34m\u001b[0m\u001b[0m\n\u001b[0;32m--> 142\u001b[0;31m                 \u001b[0mans_start_idx\u001b[0m \u001b[0;34m=\u001b[0m \u001b[0msent\u001b[0m\u001b[0;34m.\u001b[0m\u001b[0mindex\u001b[0m\u001b[0;34m(\u001b[0m\u001b[0manswer_text\u001b[0m\u001b[0;34m)\u001b[0m\u001b[0;34m\u001b[0m\u001b[0;34m\u001b[0m\u001b[0m\n\u001b[0m\u001b[1;32m    143\u001b[0m \u001b[0;34m\u001b[0m\u001b[0m\n\u001b[1;32m    144\u001b[0m                 \u001b[0msent\u001b[0m \u001b[0;34m=\u001b[0m \u001b[0;34mf\"{sent[:ans_start_idx]} <hl> {answer_text} <hl> {sent[ans_start_idx + len(answer_text): ]}\"\u001b[0m\u001b[0;34m\u001b[0m\u001b[0;34m\u001b[0m\u001b[0m\n",
            "\u001b[0;31mValueError\u001b[0m: substring not found"
          ]
        }
      ]
    },
    {
      "cell_type": "code",
      "source": [
        "\"\"\"def GenerateQuestionAnswer(text):\n",
        "    questions = []\n",
        "    QuestionAnswer = {}\n",
        "    \n",
        "    \n",
        "    text = text.replace(\"\\n\",\"\")\n",
        "    sentances = text.split(\".\")\n",
        "    print(sentances)\n",
        "    for sentance in sentances:\n",
        "        if len(sentance) > 3:\n",
        "            \n",
        "            print(sentance)\n",
        "            output = nlp(sentance)\n",
        "    \n",
        "            for item in output:\n",
        "                questions.append(item['question'])\n",
        "\n",
        "\n",
        "    \n",
        "    for question in questions:\n",
        "        payload3 = {\n",
        "        \"input_text\" : text,\n",
        "        \"input_question\" : question\n",
        "    \n",
        "        }\n",
        "        output = answer.predict_answer(payload3)\n",
        "        QuestionAnswer[question] = output\n",
        "\n",
        "    return QuestionAnswer\"\"\""
      ],
      "metadata": {
        "id": "At3c4XA1D5BO"
      },
      "execution_count": null,
      "outputs": []
    },
    {
      "cell_type": "code",
      "source": [
        "\"\"\"\n",
        "filePath = \"\"\n",
        "pdfFileObj = open(filePath, 'rb')\n",
        "pdfReader = PyPDF2.PdfFileReader(pdfFileObj)\n",
        "# printing number of pages in pdf file \n",
        "maxPages = pdfReader.numPages\n",
        "\n",
        "\n",
        "\n",
        "\n",
        "data = {}\n",
        "for page in range(maxPages):\n",
        "    #if page == 1:\n",
        "        #break\n",
        "    if page+1 in skip:\n",
        "        \n",
        "        continue\n",
        "    \n",
        "    pageObj = pdfReader.getPage(page)\n",
        "    text = pageObj.extractText()\n",
        "    text = re.sub('[^A-Za-z0-9]+', ' ', text)\n",
        "    key = \"Question & Answer for page no:\"+str(page+1)\n",
        "\n",
        "    data[key] = GenerateQuestionAnswer(text)\"\"\""
      ],
      "metadata": {
        "id": "kjmlWcMJcyUL"
      },
      "execution_count": null,
      "outputs": []
    },
    {
      "cell_type": "code",
      "source": [
        "data"
      ],
      "metadata": {
        "id": "vkWyAQgTD87y"
      },
      "execution_count": null,
      "outputs": []
    }
  ]
}
